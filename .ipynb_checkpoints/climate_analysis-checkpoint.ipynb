{
 "cells": [
  {
   "cell_type": "code",
   "execution_count": null,
   "metadata": {
    "collapsed": true
   },
   "outputs": [],
   "source": [
    "import pandas as pd\n",
    "import os\n",
    "from sqlalchemy import create_engine, func\n",
    "import pymysql\n",
    "pymysql.install_as_MySQLdb()\n",
    "from sqlalchemy.ext.automap import automap_base\n",
    "from sqlalchemy.orm import Session\n",
    "from sqlalchemy import create_engine\n",
    "import numpy as np\n",
    "import matplotlib.pyplot as plt\n",
    "from datetime import datetime\n",
    "\n",
    "from flask import Flask, jsonify"
   ]
  },
  {
   "cell_type": "code",
   "execution_count": null,
   "metadata": {
    "collapsed": true
   },
   "outputs": [],
   "source": [
    "engine = create_engine(\"sqlite:///hawaii.sqlite\")"
   ]
  },
  {
   "cell_type": "code",
   "execution_count": null,
   "metadata": {
    "collapsed": true
   },
   "outputs": [],
   "source": [
    "# Declare a Base using `automap_base()`\n",
    "Base = automap_base()"
   ]
  },
  {
   "cell_type": "code",
   "execution_count": null,
   "metadata": {
    "collapsed": true
   },
   "outputs": [],
   "source": [
    "# Use the Base class to reflect the database tables\n",
    "Base.prepare(engine, reflect=True)"
   ]
  },
  {
   "cell_type": "code",
   "execution_count": null,
   "metadata": {},
   "outputs": [],
   "source": [
    "print(Base.classes.keys())"
   ]
  },
  {
   "cell_type": "code",
   "execution_count": null,
   "metadata": {
    "collapsed": true
   },
   "outputs": [],
   "source": [
    "station = Base.classes.station"
   ]
  },
  {
   "cell_type": "code",
   "execution_count": null,
   "metadata": {
    "collapsed": true
   },
   "outputs": [],
   "source": [
    "session = Session(engine)"
   ]
  },
  {
   "cell_type": "code",
   "execution_count": null,
   "metadata": {},
   "outputs": [],
   "source": [
    "list(station.__table__.columns)"
   ]
  },
  {
   "cell_type": "code",
   "execution_count": null,
   "metadata": {},
   "outputs": [],
   "source": [
    "# Assign the stations class to a variable called `Station`\n",
    "Station = Base.classes.station\n",
    "print(list(Station.__table__.columns))"
   ]
  },
  {
   "cell_type": "code",
   "execution_count": null,
   "metadata": {},
   "outputs": [],
   "source": [
    "Measurement = Base.classes.measurement\n",
    "print(list(Measurement.__table__.columns))"
   ]
  },
  {
   "cell_type": "code",
   "execution_count": null,
   "metadata": {
    "collapsed": true
   },
   "outputs": [],
   "source": [
    "# Session Creation\n",
    "session = Session(engine)"
   ]
  },
  {
   "cell_type": "code",
   "execution_count": null,
   "metadata": {},
   "outputs": [],
   "source": [
    "# Analyzing Precipitation\n",
    "prcp_df = pd.read_sql(\"SELECT date, prcp FROM measurement WHERE date > '2017-01-01'\", engine, index_col='date')\n",
    "\n",
    "prcp_data_df.head()"
   ]
  },
  {
   "cell_type": "code",
   "execution_count": null,
   "metadata": {},
   "outputs": [],
   "source": [
    "prcp_data_df.plot(figsize=(10, 10))\n",
    "\n",
    "plt.xlabel('Date')\n",
    "plt.ylabel('Prcp')\n",
    "\n",
    "plt.show()"
   ]
  },
  {
   "cell_type": "code",
   "execution_count": null,
   "metadata": {},
   "outputs": [],
   "source": [
    "prcp_data_df.describe(percentiles=None, include=None, exclude=None)"
   ]
  },
  {
   "cell_type": "code",
   "execution_count": null,
   "metadata": {},
   "outputs": [],
   "source": [
    "# Analyzing Station\n",
    "total_station_df = pd.read_sql(\"SELECT Distinct Count(name) FROM station\", engine)\n",
    "\n",
    "total_station_df.head(100)"
   ]
  },
  {
   "cell_type": "code",
   "execution_count": null,
   "metadata": {},
   "outputs": [],
   "source": [
    "stat_obv_count_df = pd.read_sql(\"select station, Count(date) FROM measurement GROUP BY station Order by count(date) desc\", engine)\n",
    " \n",
    "stat_obv_count_df"
   ]
  },
  {
   "cell_type": "code",
   "execution_count": null,
   "metadata": {},
   "outputs": [],
   "source": [
    "print('Station USC00519281 has the highest amount of stations')"
   ]
  },
  {
   "cell_type": "code",
   "execution_count": null,
   "metadata": {},
   "outputs": [],
   "source": [
    "tobs = pd.read_sql(\"SELECT * FROM measurement WHERE date > '2017-01-01'\", engine, index_col='date')\n",
    "\n",
    "tobs.head()"
   ]
  },
  {
   "cell_type": "code",
   "execution_count": null,
   "metadata": {},
   "outputs": [],
   "source": [
    "freq = pd.read_sql(\"SELECT count(id), station FROM measurement WHERE date > '2017-01-01' group by station order by count(id) desc\", engine)\n",
    "\n",
    "freq.head(1000)"
   ]
  },
  {
   "cell_type": "code",
   "execution_count": null,
   "metadata": {},
   "outputs": [],
   "source": [
    "plt.figure(figsize=(20, 20))\n",
    "plt.hist(tobs, bins=12)\n",
    "\n",
    "\n",
    "# add title and axis labels\n",
    "plt.title('Temperatures for Previous Year', fontsize=20)\n",
    "plt.xlabel('Temp')\n",
    "plt.ylabel('Frequency')\n",
    "\n",
    "plt.show()"
   ]
  },
  {
   "cell_type": "code",
   "execution_count": null,
   "metadata": {
    "collapsed": true
   },
   "outputs": [],
   "source": [
    "#Temp Analysis\n",
    "\n",
    "def calc_temps(start_date, end_date):\n",
    "    start = datetime.strptime(start_date, '%Y-%m-%d').date()\n",
    "    end = datetime.strptime(end_date, '%Y-%m-%d').date()\n",
    "    \n",
    "    min_temp = (session\n",
    "                .query(func.min(Measurement.tobs))\n",
    "                .filter(Measurement.date >= start)\n",
    "                .filter(Measurement.date <= end)\n",
    "                )\n",
    "    \n",
    "    print(min_temp)\n",
    "    \n",
    "    max_temp = (session\n",
    "                .query(func.max(Measurement.tobs))\n",
    "                .filter(Measurement.date >= start)\n",
    "                .filter(Measurement.date <= end)\n",
    "                )\n",
    "    \n",
    "    print(max_temp)\n",
    "    \n",
    "    avg_temp = (session\n",
    "                .query(func.avg(Measurement.tobs))\n",
    "                .filter(Measurement.date >= start)\n",
    "                .filter(Measurement.date <= end)\n",
    "                )\n",
    "    \n",
    "    print(avg_temp)\n",
    "    \n",
    "    return {'min': min_temp, 'max': max_temp, 'avg': avg_temp}"
   ]
  },
  {
   "cell_type": "code",
   "execution_count": null,
   "metadata": {
    "collapsed": true
   },
   "outputs": [],
   "source": [
    "trip_start = '2017-01-01' \n",
    "trip_end = '2017-01-23'"
   ]
  },
  {
   "cell_type": "code",
   "execution_count": null,
   "metadata": {},
   "outputs": [],
   "source": [
    "trip_temp = calc_temps(trip_start, trip_end)"
   ]
  },
  {
   "cell_type": "code",
   "execution_count": null,
   "metadata": {},
   "outputs": [],
   "source": [
    "trip_temp.figure(figsize=(10, 10))\n",
    "plt.bar(min_temp, max_temp, align='center', alpha=0.5)\n",
    "\n",
    "plt.show()"
   ]
  },
  {
   "cell_type": "code",
   "execution_count": null,
   "metadata": {
    "collapsed": true
   },
   "outputs": [],
   "source": []
  }
 ],
 "metadata": {
  "kernelspec": {
   "display_name": "Python [default]",
   "language": "python",
   "name": "python3"
  },
  "language_info": {
   "codemirror_mode": {
    "name": "ipython",
    "version": 3
   },
   "file_extension": ".py",
   "mimetype": "text/x-python",
   "name": "python",
   "nbconvert_exporter": "python",
   "pygments_lexer": "ipython3",
   "version": "3.6.3"
  }
 },
 "nbformat": 4,
 "nbformat_minor": 2
}
